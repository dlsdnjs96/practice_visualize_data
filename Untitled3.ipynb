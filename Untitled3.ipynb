{
  "nbformat": 4,
  "nbformat_minor": 0,
  "metadata": {
    "colab": {
      "name": "Untitled3.ipynb",
      "provenance": []
    },
    "kernelspec": {
      "name": "python3",
      "display_name": "Python 3"
    },
    "language_info": {
      "name": "python"
    }
  },
  "cells": [
    {
      "cell_type": "code",
      "metadata": {
        "id": "YO04W9MVAyPK"
      },
      "source": [
        "import numpy as np\n",
        "import pandas as pd\n",
        "import seaborn as sns"
      ],
      "execution_count": null,
      "outputs": []
    },
    {
      "cell_type": "code",
      "metadata": {
        "id": "IgD9aEWmA5l8"
      },
      "source": [
        "train = pd.read_csv('/content/drive/MyDrive/Colab Notebooks/Wine_Quality/train.csv')\n",
        "test = pd.read_csv('/content/drive/MyDrive/Colab Notebooks/Wine_Quality/test.csv')"
      ],
      "execution_count": null,
      "outputs": []
    },
    {
      "cell_type": "code",
      "metadata": {
        "colab": {
          "base_uri": "https://localhost:8080/",
          "height": 220
        },
        "id": "03vHF4WYIdRx",
        "outputId": "7016cf07-e04a-40d3-bd8b-25eb7b9990e7"
      },
      "source": [
        "train.head()"
      ],
      "execution_count": null,
      "outputs": [
        {
          "output_type": "execute_result",
          "data": {
            "text/html": [
              "<div>\n",
              "<style scoped>\n",
              "    .dataframe tbody tr th:only-of-type {\n",
              "        vertical-align: middle;\n",
              "    }\n",
              "\n",
              "    .dataframe tbody tr th {\n",
              "        vertical-align: top;\n",
              "    }\n",
              "\n",
              "    .dataframe thead th {\n",
              "        text-align: right;\n",
              "    }\n",
              "</style>\n",
              "<table border=\"1\" class=\"dataframe\">\n",
              "  <thead>\n",
              "    <tr style=\"text-align: right;\">\n",
              "      <th></th>\n",
              "      <th>index</th>\n",
              "      <th>quality</th>\n",
              "      <th>fixed acidity</th>\n",
              "      <th>volatile acidity</th>\n",
              "      <th>citric acid</th>\n",
              "      <th>residual sugar</th>\n",
              "      <th>chlorides</th>\n",
              "      <th>free sulfur dioxide</th>\n",
              "      <th>total sulfur dioxide</th>\n",
              "      <th>density</th>\n",
              "      <th>pH</th>\n",
              "      <th>sulphates</th>\n",
              "      <th>alcohol</th>\n",
              "      <th>type</th>\n",
              "    </tr>\n",
              "  </thead>\n",
              "  <tbody>\n",
              "    <tr>\n",
              "      <th>0</th>\n",
              "      <td>0</td>\n",
              "      <td>5</td>\n",
              "      <td>5.6</td>\n",
              "      <td>0.695</td>\n",
              "      <td>0.06</td>\n",
              "      <td>6.8</td>\n",
              "      <td>0.042</td>\n",
              "      <td>9.0</td>\n",
              "      <td>84.0</td>\n",
              "      <td>0.99432</td>\n",
              "      <td>3.44</td>\n",
              "      <td>0.44</td>\n",
              "      <td>10.2</td>\n",
              "      <td>white</td>\n",
              "    </tr>\n",
              "    <tr>\n",
              "      <th>1</th>\n",
              "      <td>1</td>\n",
              "      <td>5</td>\n",
              "      <td>8.8</td>\n",
              "      <td>0.610</td>\n",
              "      <td>0.14</td>\n",
              "      <td>2.4</td>\n",
              "      <td>0.067</td>\n",
              "      <td>10.0</td>\n",
              "      <td>42.0</td>\n",
              "      <td>0.99690</td>\n",
              "      <td>3.19</td>\n",
              "      <td>0.59</td>\n",
              "      <td>9.5</td>\n",
              "      <td>red</td>\n",
              "    </tr>\n",
              "    <tr>\n",
              "      <th>2</th>\n",
              "      <td>2</td>\n",
              "      <td>5</td>\n",
              "      <td>7.9</td>\n",
              "      <td>0.210</td>\n",
              "      <td>0.39</td>\n",
              "      <td>2.0</td>\n",
              "      <td>0.057</td>\n",
              "      <td>21.0</td>\n",
              "      <td>138.0</td>\n",
              "      <td>0.99176</td>\n",
              "      <td>3.05</td>\n",
              "      <td>0.52</td>\n",
              "      <td>10.9</td>\n",
              "      <td>white</td>\n",
              "    </tr>\n",
              "    <tr>\n",
              "      <th>3</th>\n",
              "      <td>3</td>\n",
              "      <td>6</td>\n",
              "      <td>7.0</td>\n",
              "      <td>0.210</td>\n",
              "      <td>0.31</td>\n",
              "      <td>6.0</td>\n",
              "      <td>0.046</td>\n",
              "      <td>29.0</td>\n",
              "      <td>108.0</td>\n",
              "      <td>0.99390</td>\n",
              "      <td>3.26</td>\n",
              "      <td>0.50</td>\n",
              "      <td>10.8</td>\n",
              "      <td>white</td>\n",
              "    </tr>\n",
              "    <tr>\n",
              "      <th>4</th>\n",
              "      <td>4</td>\n",
              "      <td>6</td>\n",
              "      <td>7.8</td>\n",
              "      <td>0.400</td>\n",
              "      <td>0.26</td>\n",
              "      <td>9.5</td>\n",
              "      <td>0.059</td>\n",
              "      <td>32.0</td>\n",
              "      <td>178.0</td>\n",
              "      <td>0.99550</td>\n",
              "      <td>3.04</td>\n",
              "      <td>0.43</td>\n",
              "      <td>10.9</td>\n",
              "      <td>white</td>\n",
              "    </tr>\n",
              "  </tbody>\n",
              "</table>\n",
              "</div>"
            ],
            "text/plain": [
              "   index  quality  fixed acidity  ...  sulphates  alcohol   type\n",
              "0      0        5            5.6  ...       0.44     10.2  white\n",
              "1      1        5            8.8  ...       0.59      9.5    red\n",
              "2      2        5            7.9  ...       0.52     10.9  white\n",
              "3      3        6            7.0  ...       0.50     10.8  white\n",
              "4      4        6            7.8  ...       0.43     10.9  white\n",
              "\n",
              "[5 rows x 14 columns]"
            ]
          },
          "metadata": {},
          "execution_count": 34
        }
      ]
    },
    {
      "cell_type": "code",
      "metadata": {
        "colab": {
          "base_uri": "https://localhost:8080/",
          "height": 370
        },
        "id": "pNQo0ZeqBwr0",
        "outputId": "123c74ba-9968-4adc-ce92-f5d66f51ef14"
      },
      "source": [
        "sns.heatmap(train.corr())"
      ],
      "execution_count": null,
      "outputs": [
        {
          "output_type": "execute_result",
          "data": {
            "text/plain": [
              "<matplotlib.axes._subplots.AxesSubplot at 0x7f078846f8d0>"
            ]
          },
          "metadata": {},
          "execution_count": 6
        },
        {
          "output_type": "display_data",
          "data": {
            "image/png": "[encoded data removed]",
            "text/plain": [
              "<Figure size 432x288 with 2 Axes>"
            ]
          },
          "metadata": {
            "needs_background": "light"
          }
        }
      ]
    },
    {
      "cell_type": "code",
      "metadata": {
        "colab": {
          "base_uri": "https://localhost:8080/",
          "height": 601
        },
        "id": "Jw0kXkcMBV3U",
        "outputId": "6fee1a98-4653-49e5-d3c5-7bf2b7700ae4"
      },
      "source": [
        "train.corr()"
      ],
      "execution_count": null,
      "outputs": [
        {
          "output_type": "execute_result",
          "data": {
            "text/html": [
              "<div>\n",
              "<style scoped>\n",
              "    .dataframe tbody tr th:only-of-type {\n",
              "        vertical-align: middle;\n",
              "    }\n",
              "\n",
              "    .dataframe tbody tr th {\n",
              "        vertical-align: top;\n",
              "    }\n",
              "\n",
              "    .dataframe thead th {\n",
              "        text-align: right;\n",
              "    }\n",
              "</style>\n",
              "<table border=\"1\" class=\"dataframe\">\n",
              "  <thead>\n",
              "    <tr style=\"text-align: right;\">\n",
              "      <th></th>\n",
              "      <th>index</th>\n",
              "      <th>quality</th>\n",
              "      <th>fixed acidity</th>\n",
              "      <th>volatile acidity</th>\n",
              "      <th>citric acid</th>\n",
              "      <th>residual sugar</th>\n",
              "      <th>chlorides</th>\n",
              "      <th>free sulfur dioxide</th>\n",
              "      <th>total sulfur dioxide</th>\n",
              "      <th>density</th>\n",
              "      <th>pH</th>\n",
              "      <th>sulphates</th>\n",
              "      <th>alcohol</th>\n",
              "    </tr>\n",
              "  </thead>\n",
              "  <tbody>\n",
              "    <tr>\n",
              "      <th>index</th>\n",
              "      <td>1.000000</td>\n",
              "      <td>-0.008045</td>\n",
              "      <td>-0.011214</td>\n",
              "      <td>-0.012566</td>\n",
              "      <td>-0.015858</td>\n",
              "      <td>0.000727</td>\n",
              "      <td>-0.015198</td>\n",
              "      <td>0.007370</td>\n",
              "      <td>0.023697</td>\n",
              "      <td>-0.009455</td>\n",
              "      <td>-0.018246</td>\n",
              "      <td>-0.006651</td>\n",
              "      <td>-0.002234</td>\n",
              "    </tr>\n",
              "    <tr>\n",
              "      <th>quality</th>\n",
              "      <td>-0.008045</td>\n",
              "      <td>1.000000</td>\n",
              "      <td>-0.076506</td>\n",
              "      <td>-0.261557</td>\n",
              "      <td>0.079157</td>\n",
              "      <td>-0.032848</td>\n",
              "      <td>-0.198148</td>\n",
              "      <td>0.055574</td>\n",
              "      <td>-0.039732</td>\n",
              "      <td>-0.299831</td>\n",
              "      <td>0.017931</td>\n",
              "      <td>0.042068</td>\n",
              "      <td>0.439615</td>\n",
              "    </tr>\n",
              "    <tr>\n",
              "      <th>fixed acidity</th>\n",
              "      <td>-0.011214</td>\n",
              "      <td>-0.076506</td>\n",
              "      <td>1.000000</td>\n",
              "      <td>0.210180</td>\n",
              "      <td>0.326992</td>\n",
              "      <td>-0.112544</td>\n",
              "      <td>0.303307</td>\n",
              "      <td>-0.277079</td>\n",
              "      <td>-0.323845</td>\n",
              "      <td>0.452161</td>\n",
              "      <td>-0.250462</td>\n",
              "      <td>0.300979</td>\n",
              "      <td>-0.096274</td>\n",
              "    </tr>\n",
              "    <tr>\n",
              "      <th>volatile acidity</th>\n",
              "      <td>-0.012566</td>\n",
              "      <td>-0.261557</td>\n",
              "      <td>0.210180</td>\n",
              "      <td>1.000000</td>\n",
              "      <td>-0.377986</td>\n",
              "      <td>-0.192677</td>\n",
              "      <td>0.385431</td>\n",
              "      <td>-0.352572</td>\n",
              "      <td>-0.418535</td>\n",
              "      <td>0.266759</td>\n",
              "      <td>0.264130</td>\n",
              "      <td>0.225174</td>\n",
              "      <td>-0.032897</td>\n",
              "    </tr>\n",
              "    <tr>\n",
              "      <th>citric acid</th>\n",
              "      <td>-0.015858</td>\n",
              "      <td>0.079157</td>\n",
              "      <td>0.326992</td>\n",
              "      <td>-0.377986</td>\n",
              "      <td>1.000000</td>\n",
              "      <td>0.135160</td>\n",
              "      <td>0.029121</td>\n",
              "      <td>0.129496</td>\n",
              "      <td>0.190955</td>\n",
              "      <td>0.088400</td>\n",
              "      <td>-0.322100</td>\n",
              "      <td>0.049013</td>\n",
              "      <td>-0.005376</td>\n",
              "    </tr>\n",
              "    <tr>\n",
              "      <th>residual sugar</th>\n",
              "      <td>0.000727</td>\n",
              "      <td>-0.032848</td>\n",
              "      <td>-0.112544</td>\n",
              "      <td>-0.192677</td>\n",
              "      <td>0.135160</td>\n",
              "      <td>1.000000</td>\n",
              "      <td>-0.130339</td>\n",
              "      <td>0.396018</td>\n",
              "      <td>0.494788</td>\n",
              "      <td>0.557183</td>\n",
              "      <td>-0.259673</td>\n",
              "      <td>-0.182275</td>\n",
              "      <td>-0.361457</td>\n",
              "    </tr>\n",
              "    <tr>\n",
              "      <th>chlorides</th>\n",
              "      <td>-0.015198</td>\n",
              "      <td>-0.198148</td>\n",
              "      <td>0.303307</td>\n",
              "      <td>0.385431</td>\n",
              "      <td>0.029121</td>\n",
              "      <td>-0.130339</td>\n",
              "      <td>1.000000</td>\n",
              "      <td>-0.193143</td>\n",
              "      <td>-0.281654</td>\n",
              "      <td>0.364200</td>\n",
              "      <td>0.046937</td>\n",
              "      <td>0.400354</td>\n",
              "      <td>-0.259774</td>\n",
              "    </tr>\n",
              "    <tr>\n",
              "      <th>free sulfur dioxide</th>\n",
              "      <td>0.007370</td>\n",
              "      <td>0.055574</td>\n",
              "      <td>-0.277079</td>\n",
              "      <td>-0.352572</td>\n",
              "      <td>0.129496</td>\n",
              "      <td>0.396018</td>\n",
              "      <td>-0.193143</td>\n",
              "      <td>1.000000</td>\n",
              "      <td>0.716829</td>\n",
              "      <td>0.027270</td>\n",
              "      <td>-0.145586</td>\n",
              "      <td>-0.189390</td>\n",
              "      <td>-0.182321</td>\n",
              "    </tr>\n",
              "    <tr>\n",
              "      <th>total sulfur dioxide</th>\n",
              "      <td>0.023697</td>\n",
              "      <td>-0.039732</td>\n",
              "      <td>-0.323845</td>\n",
              "      <td>-0.418535</td>\n",
              "      <td>0.190955</td>\n",
              "      <td>0.494788</td>\n",
              "      <td>-0.281654</td>\n",
              "      <td>0.716829</td>\n",
              "      <td>1.000000</td>\n",
              "      <td>0.039707</td>\n",
              "      <td>-0.234412</td>\n",
              "      <td>-0.272236</td>\n",
              "      <td>-0.271566</td>\n",
              "    </tr>\n",
              "    <tr>\n",
              "      <th>density</th>\n",
              "      <td>-0.009455</td>\n",
              "      <td>-0.299831</td>\n",
              "      <td>0.452161</td>\n",
              "      <td>0.266759</td>\n",
              "      <td>0.088400</td>\n",
              "      <td>0.557183</td>\n",
              "      <td>0.364200</td>\n",
              "      <td>0.027270</td>\n",
              "      <td>0.039707</td>\n",
              "      <td>1.000000</td>\n",
              "      <td>0.020047</td>\n",
              "      <td>0.261879</td>\n",
              "      <td>-0.688053</td>\n",
              "    </tr>\n",
              "    <tr>\n",
              "      <th>pH</th>\n",
              "      <td>-0.018246</td>\n",
              "      <td>0.017931</td>\n",
              "      <td>-0.250462</td>\n",
              "      <td>0.264130</td>\n",
              "      <td>-0.322100</td>\n",
              "      <td>-0.259673</td>\n",
              "      <td>0.046937</td>\n",
              "      <td>-0.145586</td>\n",
              "      <td>-0.234412</td>\n",
              "      <td>0.020047</td>\n",
              "      <td>1.000000</td>\n",
              "      <td>0.187392</td>\n",
              "      <td>0.114959</td>\n",
              "    </tr>\n",
              "    <tr>\n",
              "      <th>sulphates</th>\n",
              "      <td>-0.006651</td>\n",
              "      <td>0.042068</td>\n",
              "      <td>0.300979</td>\n",
              "      <td>0.225174</td>\n",
              "      <td>0.049013</td>\n",
              "      <td>-0.182275</td>\n",
              "      <td>0.400354</td>\n",
              "      <td>-0.189390</td>\n",
              "      <td>-0.272236</td>\n",
              "      <td>0.261879</td>\n",
              "      <td>0.187392</td>\n",
              "      <td>1.000000</td>\n",
              "      <td>-0.008713</td>\n",
              "    </tr>\n",
              "    <tr>\n",
              "      <th>alcohol</th>\n",
              "      <td>-0.002234</td>\n",
              "      <td>0.439615</td>\n",
              "      <td>-0.096274</td>\n",
              "      <td>-0.032897</td>\n",
              "      <td>-0.005376</td>\n",
              "      <td>-0.361457</td>\n",
              "      <td>-0.259774</td>\n",
              "      <td>-0.182321</td>\n",
              "      <td>-0.271566</td>\n",
              "      <td>-0.688053</td>\n",
              "      <td>0.114959</td>\n",
              "      <td>-0.008713</td>\n",
              "      <td>1.000000</td>\n",
              "    </tr>\n",
              "  </tbody>\n",
              "</table>\n",
              "</div>"
            ],
            "text/plain": [
              "                         index   quality  ...  sulphates   alcohol\n",
              "index                 1.000000 -0.008045  ...  -0.006651 -0.002234\n",
              "quality              -0.008045  1.000000  ...   0.042068  0.439615\n",
              "fixed acidity        -0.011214 -0.076506  ...   0.300979 -0.096274\n",
              "volatile acidity     -0.012566 -0.261557  ...   0.225174 -0.032897\n",
              "citric acid          -0.015858  0.079157  ...   0.049013 -0.005376\n",
              "residual sugar        0.000727 -0.032848  ...  -0.182275 -0.361457\n",
              "chlorides            -0.015198 -0.198148  ...   0.400354 -0.259774\n",
              "free sulfur dioxide   0.007370  0.055574  ...  -0.189390 -0.182321\n",
              "total sulfur dioxide  0.023697 -0.039732  ...  -0.272236 -0.271566\n",
              "density              -0.009455 -0.299831  ...   0.261879 -0.688053\n",
              "pH                   -0.018246  0.017931  ...   0.187392  0.114959\n",
              "sulphates            -0.006651  0.042068  ...   1.000000 -0.008713\n",
              "alcohol              -0.002234  0.439615  ...  -0.008713  1.000000\n",
              "\n",
              "[13 rows x 13 columns]"
            ]
          },
          "metadata": {},
          "execution_count": 4
        }
      ]
    },
    {
      "cell_type": "code",
      "metadata": {
        "colab": {
          "base_uri": "https://localhost:8080/"
        },
        "id": "MnuB157eCNzQ",
        "outputId": "079b627f-0a8d-4835-faf7-a3814a6ed3a8"
      },
      "source": [
        "train.columns"
      ],
      "execution_count": null,
      "outputs": [
        {
          "output_type": "execute_result",
          "data": {
            "text/plain": [
              "Index(['index', 'quality', 'fixed acidity', 'volatile acidity', 'citric acid',\n",
              "       'residual sugar', 'chlorides', 'free sulfur dioxide',\n",
              "       'total sulfur dioxide', 'density', 'pH', 'sulphates', 'alcohol',\n",
              "       'type'],\n",
              "      dtype='object')"
            ]
          },
          "metadata": {},
          "execution_count": 7
        }
      ]
    },
    {
      "cell_type": "code",
      "metadata": {
        "id": "65MTLMYECWEZ"
      },
      "source": [
        "x_col = ['volatile acidity', 'chlorides', 'density', 'alcohol']\n",
        "y_col = ['quality']"
      ],
      "execution_count": null,
      "outputs": []
    },
    {
      "cell_type": "code",
      "metadata": {
        "id": "S_SABkBACUMY"
      },
      "source": [
        "x_train = train[x_col]\n",
        "y_train = train[y_col]\n",
        "\n",
        "x_test = test[x_col]"
      ],
      "execution_count": null,
      "outputs": []
    },
    {
      "cell_type": "code",
      "metadata": {
        "id": "z8rQtFZGC--A"
      },
      "source": [
        "from xgboost import XGBRegressor\n",
        "from sklearn.ensemble import GradientBoostingRegressor, RandomForestRegressor\n",
        "from sklearn.linear_model import LinearRegression\n",
        "from sklearn.metrics import mean_squared_error"
      ],
      "execution_count": null,
      "outputs": []
    },
    {
      "cell_type": "code",
      "metadata": {
        "colab": {
          "base_uri": "https://localhost:8080/"
        },
        "id": "sn0PO6EcDRdY",
        "outputId": "ed2af1a5-3020-42c2-fd53-262eef3a678b"
      },
      "source": [
        "xgb = XGBRegressor(random_state=37)\n",
        "gbr = GradientBoostingRegressor(random_state=37)\n",
        "rfr = RandomForestRegressor(random_state=37)\n",
        "lr = LinearRegression()\n",
        "\n",
        "models = [xgb, gbr, rfr, lr]\n",
        "names = ['xgboost', 'gradientBossting', 'randomForest', 'linearRegression']\n",
        "\n",
        "#models = [gbr, rfr, lr]\n",
        "#names = ['gradientBossting', 'randomForest', 'linearRegression']\n",
        "\n",
        "\n",
        "for m, n in zip(models, names):\n",
        "  print(n)\n",
        "  m.fit(x_train, y_train)\n",
        "  pred = m.predict(x_test)\n",
        "  print(len(y_train))\n",
        "  print(len(pred))\n",
        "  \n",
        "  #if len(y_train) == len(pred):\n",
        "  print(n+\" : \"+(str)(mean_squared_error(y_train[:1000], pred[:1000], squared=False))+\"\\r\\n\")"
      ],
      "execution_count": null,
      "outputs": [
        {
          "output_type": "stream",
          "name": "stdout",
          "text": [
            "xgboost\n",
            "[06:21:06] WARNING: /workspace/src/objective/regression_obj.cu:152: reg:linear is now deprecated in favor of reg:squarederror.\n",
            "5497\n",
            "1000\n",
            "xgboost : 0.980058120020407\n",
            "\n",
            "gradientBossting\n"
          ]
        },
        {
          "output_type": "stream",
          "name": "stderr",
          "text": [
            "/usr/local/lib/python3.7/dist-packages/sklearn/ensemble/_gb.py:1454: DataConversionWarning: A column-vector y was passed when a 1d array was expected. Please change the shape of y to (n_samples, ), for example using ravel().\n",
            "  y = column_or_1d(y, warn=True)\n"
          ]
        },
        {
          "output_type": "stream",
          "name": "stdout",
          "text": [
            "5497\n",
            "1000\n",
            "gradientBossting : 0.979609076261697\r\n",
            "\n",
            "randomForest\n"
          ]
        },
        {
          "output_type": "stream",
          "name": "stderr",
          "text": [
            "/usr/local/lib/python3.7/dist-packages/ipykernel_launcher.py:15: DataConversionWarning: A column-vector y was passed when a 1d array was expected. Please change the shape of y to (n_samples,), for example using ravel().\n",
            "  from ipykernel import kernelapp as app\n"
          ]
        },
        {
          "output_type": "stream",
          "name": "stdout",
          "text": [
            "5497\n",
            "1000\n",
            "randomForest : 1.037475185292858\r\n",
            "\n",
            "linearRegression\n",
            "5497\n",
            "1000\n",
            "linearRegression : 0.9728150071398916\r\n",
            "\n"
          ]
        }
      ]
    },
    {
      "cell_type": "code",
      "metadata": {
        "id": "OEXP_NA6HEah"
      },
      "source": [
        "lr.fit(x_train, y_train)\n",
        "pred = lr.predict(x_test)"
      ],
      "execution_count": null,
      "outputs": []
    },
    {
      "cell_type": "code",
      "metadata": {
        "colab": {
          "base_uri": "https://localhost:8080/",
          "height": 203
        },
        "id": "m33rRZZEHKvm",
        "outputId": "8baa6bc8-b833-4ecd-ac97-4352fe124ba0"
      },
      "source": [
        "submission = pd.read_csv('/content/drive/MyDrive/Colab Notebooks/Wine_Quality/sample_submission.csv')\n",
        "submission[y_col] = pred\n",
        "submission[y_col] = round(submission[y_col])\n",
        "submission.head()"
      ],
      "execution_count": null,
      "outputs": [
        {
          "output_type": "execute_result",
          "data": {
            "text/html": [
              "<div>\n",
              "<style scoped>\n",
              "    .dataframe tbody tr th:only-of-type {\n",
              "        vertical-align: middle;\n",
              "    }\n",
              "\n",
              "    .dataframe tbody tr th {\n",
              "        vertical-align: top;\n",
              "    }\n",
              "\n",
              "    .dataframe thead th {\n",
              "        text-align: right;\n",
              "    }\n",
              "</style>\n",
              "<table border=\"1\" class=\"dataframe\">\n",
              "  <thead>\n",
              "    <tr style=\"text-align: right;\">\n",
              "      <th></th>\n",
              "      <th>index</th>\n",
              "      <th>quality</th>\n",
              "    </tr>\n",
              "  </thead>\n",
              "  <tbody>\n",
              "    <tr>\n",
              "      <th>0</th>\n",
              "      <td>0</td>\n",
              "      <td>6.0</td>\n",
              "    </tr>\n",
              "    <tr>\n",
              "      <th>1</th>\n",
              "      <td>1</td>\n",
              "      <td>5.0</td>\n",
              "    </tr>\n",
              "    <tr>\n",
              "      <th>2</th>\n",
              "      <td>2</td>\n",
              "      <td>5.0</td>\n",
              "    </tr>\n",
              "    <tr>\n",
              "      <th>3</th>\n",
              "      <td>3</td>\n",
              "      <td>6.0</td>\n",
              "    </tr>\n",
              "    <tr>\n",
              "      <th>4</th>\n",
              "      <td>4</td>\n",
              "      <td>6.0</td>\n",
              "    </tr>\n",
              "  </tbody>\n",
              "</table>\n",
              "</div>"
            ],
            "text/plain": [
              "   index  quality\n",
              "0      0      6.0\n",
              "1      1      5.0\n",
              "2      2      5.0\n",
              "3      3      6.0\n",
              "4      4      6.0"
            ]
          },
          "metadata": {},
          "execution_count": 37
        }
      ]
    },
    {
      "cell_type": "code",
      "metadata": {
        "id": "UxfsKYmwHZ90"
      },
      "source": [
        "submission.to_csv('/content/drive/MyDrive/Colab Notebooks/Wine_Quality/submission.csv', index=False)"
      ],
      "execution_count": null,
      "outputs": []
    }
  ]
}